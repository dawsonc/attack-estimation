{
 "cells": [
  {
   "cell_type": "markdown",
   "metadata": {},
   "source": [
    "# Bayesian Networks for Estimating Attack Vector\n",
    "\n",
    "## Intro & motivating example\n",
    "\n",
    "Humans are notoriously bad at reasoning about probabilities: more often than not, we rely on cognitive shortcuts (heuristics and biases) instead of actually calculating the liklihood of events. This can be a good thing; just think how paralyzed we would be if we stopped to calculate the probability of rain every time we heard raindrops on our window, rather than just grabbing an umbrella! Even computers can start to run into tractability problems when working with probability distributions involving even a few dozen variables. In this tutorial, we will introduce a tool, called Bayesian networks, for automatically and efficiently reasoning about probabilities. These networks will allow us to ask questions like \"given this new evidence, what is the probability of some hidden variable being true\" or \"what is the most likely explanation for some set of observations?\". These questions might remind you of our lectures on Hidden Markov Models (HMMs); it turns out that Bayesian networks can be used to represent Markov processes, but they are much more expressive and can be used to model much more complicated scenarios.\n",
    "\n",
    "To make this discussion more concrete, it's helpful to have a motivating example. You are a security engineer in the employ of the Generic Galactic Empire aboard a controversial new ~~moon~~ space station. You are aware of several security vulnerabilities in the space station's software subsystems, but you have no way to detect whether those vulnerabilities are being exploited except by running diagnostics on various workstations throughout the station. Since you'd like to be able to detect attacks based on the probability that a vulnerability is being exploited, you'd like an easy way to relate your observations of workstations to the probability of a cyberattack taking place. After a brief review of probability fundamentals, we'll discuss how Bayesian networks can be used to model this situation and make inferences automatically.\n",
    "\n",
    "### References\n",
    "The discussion in this tutorial draws heavily from the following sources:\n",
    "- Russell & Norvig, AIMA, Chapter 13 & 14\n",
    "- [R. Dechter, \"Bucket Elimination: A Unifying Framework for Probabilistic Inference\"](https://webdocs.cs.ualberta.ca/~rgreiner/C-366/RG-2002-SLIDES/BucketElim.pdf) \n",
    "\n",
    "Chapter 13 of AIMA provides an overview of probability fundamentals, while chapter 14 discusses Bayesian networks in more depth. Dechter's article describes efficient algorithms for making inference based on Bayesian networks."
   ]
  },
  {
   "cell_type": "markdown",
   "metadata": {},
   "source": [
    "## Probability Review\n",
    "\n",
    "This section will provide a quick review of relevant probability concepts. For a more thorough review, see Russel & Norvig AIMA, Chapter 13.\n",
    "\n",
    "Given a set of $n$ discrete random variables, we can fully represent the probabilities and relationships between all $n$ variables using a table called the **joint distribution**. This table has a dimension for every variable and a row for each possible assignment to that variable; a joint distribution for 2 binary variables, $A$ and $B$, would have a row for each value of $A$ and a column for each value of $B$. Each entry in the joint distribution contains the probability that the corresponding assignment to each of the variables will be observed; in the $2\\times2$ case, the $(0, 0)$ entry would contain the probability that $A=0$ and $B=0$.\n",
    "\n",
    "Formally, the joint distribution allows us to lookup probabilities $P(A\\land B \\land C \\land ...)$ just be reading the value out of the joint distribution table. They also allow us to find the so-called *marginal probability* of some variable $P(A)$, which is the probability that $A$ takes on some value regardless of the value of all other variables. In the binary case, $P(A) = P(A\\land B) + P(A \\land \\text{not }B)$; in the general case, we can calculate the marginal probability by summing over all possible values of the variables we don't care about (this is called **marginalizing** out those summed variable), like so:\n",
    "\n",
    "$$P(A) = \\sum_{\\text{all possible assignments to }B,C,\\ldots} P(A \\land B \\land C \\land \\ldots$$\n",
    "\n",
    "Often, we are interested in the case when we have observed some variable assignments (which we call the evidence variables $e$), and we are interested in the probability of some other variables ($X$) given those observations. This probability $P(X | e)$ is called the **conditional** or **posterior probability**, and it can be calculated using the product rule, $P(A\\land e) = P(X|e) P(e)$, which we can rearrange to find \n",
    "\n",
    "$$P(X | e) = P(X\\land e)/P(e) = \\alpha P(X \\land e)$$\n",
    "\n",
    "where $\\alpha$ is a normalization factor calculated so that $P(X | e) + P(\\text{not }X | e) = 1$. Note that $P(X \\land e)$ is simply a marginal probability, so we can compute it from the joint distribution by marginalizing:\n",
    "\n",
    "$$P(X\\land e) = \\sum_{\\text{all possible assignments to }y\\text{ not in}x, e}P(X \\land e \\land y)$$\n",
    "\n",
    "\n",
    "Using these equations, we can answer whatever queries we want just by looking up entries in the corresponding joint distribution table. This would be nice, but unfortunately these joint distributions are often too large to use in practice. Even for relatively simple binary variables, the size of the table grows exponentially, $O(2^n)$, where $n$ is the number of variables.\n",
    "\n",
    "To get around this exponential growth, we can apply some common sense. Let's say we want to calculate the probability that three sequential fair coin tosses both come out heads. We could create a joint distribution table for the two variables ($H1$ for whether the first coin comes out heads, and so on for $H2$ and $H3$). This joint table would have $2^3=8$ entries. However, we know that the outcome of the first coin toss does not influence the outcome of later tosses. Formally, we know that $P(H3 | H1, H2) = P(H3)$, and similarly for $P(H1 | H2, H3) = P(H1)$ and $P(H2 | H1, H3) = P(H2)$. Because these variables are **independent**, we only need to specify a distribution for each set of independent variables. In this case, we would need three **conditional distributions**, each with 2 entries (6 total entries, saving 2 compared to the full joint distribution, but these savings grow exponentially). In general, if we have multiple sets of variables, where the variables in each set are independent from variables in other sets, we need one conditional distribution per set. Intuitively, if the joint distribution needs $2^n$ storage, two conditional distributions would only need $2^{n/2}+2^{n/2} \\ll 2^n$. By encoding our common-sense knowledge (e.g. of causality and independence), we can make probabilistic inference much more easily than over the full joint distribution.\n",
    "\n",
    "In the next section, we'll discuss a data structure for making efficient inference with conditional distributions."
   ]
  },
  {
   "cell_type": "markdown",
   "metadata": {},
   "source": [
    "## Bayesian Networks\n",
    "\n",
    "Exploiting conditional independence can allow us to reason much more efficiently about joint probabilities, but it would be really nice if we could automate the inference process by encoding conditional probabilities in a convenient data structure. Since dependence relates each variable to a set of \"parent\" variables, a natural structure is a directed graph, where\n",
    "- Each node corresponds to an uncertain variable (in this tutorial, we'll restrict ourselves to discrete random variables),\n",
    "- If variable $B$ is dependent on $A$, then we draw a directed edge from node `A` to node `B` in the graph, and\n",
    "- Each node $X$ is labelled with its conditional probability distribution $P(X\\ |\\ \\text{Parents}(X))$, which takes the form of a table with a row for each combination of assignments to the parent variables of $X$, specifying the probabilities that $X$ takes on each of its values conditioned on those parent variable assignments.\n",
    "\n",
    "Since we don't want any variable to depend (directly or indirectly) on itself, this graph must not have any directed cycles (making it a *directed acyclic graph*. An example graph is shown in the figure below. Given this structure, we can see that it directly encodes both independence and conditional independence: sibling nodes (i.e. nodes sharing a parent) are conditionally independent, while nodes in disconnected graphs are independent.\n",
    "\n",
    "We call this data structure a Bayesian network (or sometimes a *belief network* or *causal network*). These networks can represent any full joint distribution, but depending on the degree to which causal relationships allow us to factor the joint distribution into smaller conditional distributions, Bayesian networks can encode this information much more compactly. In the next example, we'll give a simple example of a Bayesian network and show how we can make inference based on these networks."
   ]
  },
  {
   "cell_type": "markdown",
   "metadata": {},
   "source": [
    "### A simple example\n",
    "\n",
    "Before moving on to the more complicated case of our original motivating problem, we'll use the simpler scenario from Fig. 14.2 in Russel & Norvig to illustrate the key features of Bayesian networks. In this scenario, you've just installed a new alarm in your house, and since you don't want Google spying on your home, you've chosen not to connect the alarm to the internet. Instead, you've asked your neighbors, John and Mary, to listen for the alarm and call you if they hear it going off. Complicating matters, the alarm will go off if a burglary occurs, but it is a little too sensitive and will also go off if an earthquake occurs. In addition, John will will sometimes confuse a telephone ringing for the alarm and call then as well, and because Mary likes listening to loud music, she will sometimes miss the alarm altogether.\n",
    "\n",
    "In this scenario, we essentially have five uncertain boolean variables:\n",
    "+ `B`: whether a burglary has occurred,\n",
    "+ `E`: whether an earthquake has occurred,\n",
    "+ `A`: whether the alarm has gone off,\n",
    "+ `J`: whether John calls you, and\n",
    "+ `M`: whether Mary calls you.\n",
    "\n",
    "Note that only `J` and `M` are observable. If we were to encode the full joint probability distribution, we'd need to store a table of size $O(2^n) = O(32)$. This is not too large in this case, but if you have even 30 variables then the joint distribution table would require $O(4$ GB$)$ of storage, and adding a 31st variable would require another 4 GB! We are clearly on the wrong side of this exponential when it comes to the joint distribution.\n",
    "\n",
    "To make the problem more tractable, we can exploit the causal relationships between these variables, allowing us to store a handful of smaller conditional distributions rather than a monolithic joint distribution. The causal structure of this problem leads to the Bayesian network shown in the image below (reprinted from Russell & Norvig):\n",
    "\n",
    "<img src=\"files/figs/alarm-problem-structure.png\">\n",
    "\n",
    "Since `J` and `M` only depend on `A`, we don't need to explicitly store the effect of an earthquake on the probability of John calling. Instead of a 32-entry joint distribution, we only need to store 20 values in 5 smaller conditional distributions. Only 10 entries are shown here because for boolean variables the probability of a false value is fixed at 1-(the probability of a true value). For scenarios with even more variables, these savings would be even more dramatic.\n",
    "\n",
    "It's important to note that the Bayesian network representation is not unique: you can order the variables in any way you want and back out the conditional probability tables from the joint distribution. In this case, we have ordered the nodes from causes to effects (causes at the top, flowing down to effects at the bottom of the network). This is a good heuristic for constructing concise Bayesian networks.\n",
    "\n",
    "We've written classes in `bayes_net.py` implementing the basic functionality of Bayesian networks for you, allowing you to represent these networks programmatically. You should go check out the source code to get an idea of what features are available, and a basic example of constructing a network for this example scenario is given below. To properly load the drawing function, **you must run this cell twice**."
   ]
  },
  {
   "cell_type": "code",
   "execution_count": 2,
   "metadata": {},
   "outputs": [
    {
     "data": {
      "image/png": "[encoded data removed]",
      "text/plain": [
       "<Figure size 432x288 with 1 Axes>"
      ]
     },
     "metadata": {
      "needs_background": "light"
     },
     "output_type": "display_data"
    }
   ],
   "source": [
    "## Example code for constructing the simple burglary example from AIMA (Fig. 14.2)\n",
    "from bayes_net import BayesNet, BayesNode\n",
    "import numpy as np\n",
    "import warnings\n",
    "# The plotting functionality generates some warnings that aren't too important, so filter them out.\n",
    "warnings.filterwarnings(\"ignore\", category=UserWarning)\n",
    "\n",
    "# First, instantiate the two nodes that have no parents in the network.\n",
    "# The domain of these variables is just {True, False} here, but we support arbitrary discrete domains\n",
    "burglary_node = BayesNode('Burglary')\n",
    "burglary_node.set_marginal_distribution({True: 0.001, False: 0.999})\n",
    "earthquake_node = BayesNode('Earthquake')\n",
    "earthquake_node.set_marginal_distribution({True: 0.002, False: 0.998})\n",
    "\n",
    "# Now we can instantiate nodes with probabilities conditioned on their parents\n",
    "# We have to build the conditional distribution table one entry at a time, for each combination\n",
    "# of parent variables\n",
    "alarm_node = BayesNode('Alarm')\n",
    "alarm_node.add_entry([(burglary_node, True), (earthquake_node, True)], {True: 0.95, False: 0.05})\n",
    "alarm_node.add_entry([(burglary_node, True), (earthquake_node, False)], {True: 0.94, False: 0.06})\n",
    "alarm_node.add_entry([(burglary_node, False), (earthquake_node, True)], {True: 0.29, False: 0.71})\n",
    "alarm_node.add_entry([(burglary_node, False), (earthquake_node, False)], {True: 0.001, False: 0.999})\n",
    "\n",
    "john_node = BayesNode('John')\n",
    "john_node.add_entry([(alarm_node, True)], {True: 0.9, False: 0.1})\n",
    "john_node.add_entry([(alarm_node, False)], {True: 0.05, False: 0.95})\n",
    "\n",
    "mary_node = BayesNode('Mary')\n",
    "mary_node.add_entry([(alarm_node, True)], {True: 0.7, False: 0.3})\n",
    "mary_node.add_entry([(alarm_node, False)], {True: 0.01, False: 0.99})\n",
    "\n",
    "# Now we can create a BayesNet object to store all the nodes.\n",
    "alarm_net = BayesNet([burglary_node, earthquake_node, alarm_node, john_node, mary_node])\n",
    "\n",
    "# As a sanity check, we can visualize the network to make sure it matches our model above.\n",
    "# If the figure doesn't show up the first time, try again.\n",
    "alarm_net.draw_net()"
   ]
  },
  {
   "cell_type": "markdown",
   "metadata": {},
   "source": [
    "We can use similar code to construct a more complicated network based on our original motivating example of cyberattack estimation. That situation can be modelled as follows:\n",
    "\n",
    "+ We can directly observe diagnostics on 4 workstations.\n",
    "+ Each workstation depends (to different extents) on 2 unobservable subsystems.\n",
    "+ There are 3 possible attack vectors, each of which affects some combination of subsystems and workstations.\n",
    "\n",
    "+ Each workstation can either be `Up` or `Down`.\n",
    "+ Each subsystem can be either `Online` or `Offline`.\n",
    "+ Each attack vector has either been `Attacked` or else is `Safe`.\n",
    "\n",
    "The code in the cell below constructs a Bayesian network to model this situation."
   ]
  },
  {
   "cell_type": "code",
   "execution_count": 3,
   "metadata": {},
   "outputs": [
    {
     "data": {
      "image/png": "[encoded data removed]",
      "text/plain": [
       "<Figure size 432x288 with 1 Axes>"
      ]
     },
     "metadata": {
      "needs_background": "light"
     },
     "output_type": "display_data"
    }
   ],
   "source": [
    "# Here's an exmaple net for the example given in the project. The nodes are labelled correctly,\n",
    "# but I have no idea what the appropriate domains or probabilities are.\n",
    "\n",
    "# The top three nodes correspond to possible attacks\n",
    "attack1 = BayesNode('Attack1')\n",
    "attack1.set_marginal_distribution({'Attacked': 0.2, 'Safe': 0.8})\n",
    "attack2 = BayesNode('Attack2')\n",
    "attack2.set_marginal_distribution({'Attacked': 0.3, 'Safe': 0.7})\n",
    "attack3 = BayesNode('Attack3')\n",
    "attack3.set_marginal_distribution({'Attacked': 0.6, 'Safe': 0.4})\n",
    "\n",
    "# The middle two nodes correspond to failing subsystems.\n",
    "subsystem1 = BayesNode('Subsystem1')\n",
    "subsystem1.add_entry([(attack1, 'Attacked'), (attack2, 'Attacked')], {'Offline': 0.5, 'Online': 0.5})\n",
    "subsystem1.add_entry([(attack1, 'Attacked'), (attack2, 'Safe')], {'Offline': 0.4, 'Online': 0.6})\n",
    "subsystem1.add_entry([(attack1, 'Safe'), (attack2, 'Attacked')], {'Offline': 0.3, 'Online': 0.7})\n",
    "subsystem1.add_entry([(attack1, 'Safe'), (attack2, 'Safe')], {'Offline': 0.1, 'Online': 0.9})\n",
    "subsystem2 = BayesNode('Subsystem2')\n",
    "subsystem2.add_entry([(attack1, 'Attacked'), (attack3, 'Attacked')], {'Offline': 0.3, 'Online': 0.7})\n",
    "subsystem2.add_entry([(attack1, 'Attacked'), (attack3, 'Safe')], {'Offline': 0.2, 'Online': 0.8})\n",
    "subsystem2.add_entry([(attack1, 'Safe'), (attack3, 'Attacked')], {'Offline': 0.1, 'Online': 0.9})\n",
    "subsystem2.add_entry([(attack1, 'Safe'), (attack3, 'Safe')], {'Offline': 0.05, 'Online': 0.95})\n",
    "\n",
    "# The bottom four nodes correspond to workstations working or not.\n",
    "workstation1 = BayesNode(\"Workstation1\")\n",
    "workstation1.add_entry([(subsystem1, 'Online')], {'Up': 0.7, 'Down': 0.3})\n",
    "workstation1.add_entry([(subsystem1, 'Offline')], {'Up': 0.3, 'Down': 0.7})\n",
    "workstation2 = BayesNode(\"Workstation2\")\n",
    "workstation2.add_entry([(subsystem1, 'Online'), (subsystem2, 'Online')], {'Up': 0.8, 'Down': 0.2})\n",
    "workstation2.add_entry([(subsystem1, 'Online'), (subsystem2, 'Offline')], {'Up': 0.7, 'Down': 0.3})\n",
    "workstation2.add_entry([(subsystem1, 'Offline'), (subsystem2, 'Online')], {'Up': 0.6, 'Down': 0.4})\n",
    "workstation2.add_entry([(subsystem1, 'Offline'), (subsystem2, 'Offline')], {'Up': 0.2, 'Down': 0.8})\n",
    "workstation3 = BayesNode(\"Workstation3\")\n",
    "workstation3.add_entry([(subsystem1, 'Online'), (subsystem2, 'Online'), (attack2, 'Safe')], {'Up': 0.9, 'Down': 0.1})\n",
    "workstation3.add_entry([(subsystem1, 'Online'), (subsystem2, 'Online'), (attack2, 'Attacked')], {'Up': 0.7, 'Down': 0.3})\n",
    "workstation3.add_entry([(subsystem1, 'Online'), (subsystem2, 'Offline'), (attack2, 'Safe')], {'Up': 0.6, 'Down': 0.4})\n",
    "workstation3.add_entry([(subsystem1, 'Online'), (subsystem2, 'Offline'), (attack2, 'Attacked')], {'Up': 0.3, 'Down': 0.7})\n",
    "workstation3.add_entry([(subsystem1, 'Offline'), (subsystem2, 'Online'), (attack2, 'Safe')], {'Up': 0.7, 'Down': 0.3})\n",
    "workstation3.add_entry([(subsystem1, 'Offline'), (subsystem2, 'Online'), (attack2, 'Attacked')], {'Up': 0.4, 'Down': 0.6})\n",
    "workstation3.add_entry([(subsystem1, 'Offline'), (subsystem2, 'Offline'), (attack2, 'Safe')], {'Up': 0.2, 'Down': 0.8})\n",
    "workstation3.add_entry([(subsystem1, 'Offline'), (subsystem2, 'Offline'), (attack2, 'Attacked')], {'Up': 0.05, 'Down': 0.95})\n",
    "workstation4 = BayesNode(\"Workstation4\")\n",
    "workstation4.add_entry([(subsystem2, 'Online')], {'Up': 0.7, 'Down': 0.3})\n",
    "workstation4.add_entry([(subsystem2, 'Offline')], {'Up': 0.3, 'Down': 0.7})\n",
    "\n",
    "star_net = BayesNet([attack1, attack2, attack3, subsystem1, subsystem2, workstation1, workstation2, workstation3, workstation4])\n",
    "\n",
    "star_net.draw_net()"
   ]
  },
  {
   "cell_type": "markdown",
   "metadata": {},
   "source": [
    "### Inference on Bayesian Networks\n",
    "\n",
    "Now that we've constructed a bayesian network, what can we do with it? In short, everything you can do with the full joint distribution! In the next few sections, we'll discuss algorithms for computing:\n",
    "- The joint probability distribution e.g. P(a, b, !c, d, !e)\n",
    "- The posterior probability given evidence e.g. P(X | e) = aP(X, e)\n",
    "- The maximum liklihood explanation of a set of evidence, which is the assignments to X with the highest probability given e. This is often called the maximum a posteriori estimate, or MAP estimate.\n",
    "\n",
    "#### Calculating Joint Probabilities\n",
    "\n",
    "In general, the joint probability for variable assignments $x_1,\\ldots, x_n$ is given by\n",
    "\n",
    "$$P(x_1,\\ldots, x_n) = \\prod_{i=1}^n P(x_i\\ |\\ \\text{Parents}(x_i))$$\n",
    "\n",
    "where we can simply read $P(x_i\\ |\\ \\text{Parents}(x_i))$ out of the conditional distribution attached to node `x_i`. In the context of our specific example, say we want to know the probability `B = True`, `E = False`, `A = True`, `J = True`, `M = True` (the probability that we got a call from John and Mary, the alarm has gone off, there has been a burglary, and there has been no earthquake). Using the general formula above, we get this joint probability as:\n",
    "\n",
    "$$\\begin{align*}\n",
    "P(M, J, A, not E, B) &= P(M | A) \\cdot P(J |A) \\cdot P(A | not E, B) \\cdot P(not E) \\cdot P(B) \\\\\n",
    "                     &= 0.7 \\cdot 0.9 \\cdot 0.94 \\cdot 0.998 \\cdot 0.001 \\\\\n",
    "                     &= 0.00059\n",
    "\\end{align*}$$\n",
    "\n",
    "This functionality is implemented in the provided `BayesNet` class, which we can query directly as shown below."
   ]
  },
  {
   "cell_type": "code",
   "execution_count": 7,
   "metadata": {},
   "outputs": [
    {
     "name": "stdout",
     "output_type": "stream",
     "text": [
      "P(M, J, A, not E, B) = 0.0005910156\n"
     ]
    }
   ],
   "source": [
    "joint_prob = alarm_net.calc_joint([(mary_node, True), \n",
    "                                   (john_node, True),\n",
    "                                   (alarm_node, True),\n",
    "                                   (earthquake_node, False),\n",
    "                                   (burglary_node, True)])\n",
    "print('P(M, J, A, not E, B) = {}'.format(joint_prob))"
   ]
  },
  {
   "cell_type": "markdown",
   "metadata": {},
   "source": [
    "#### Calculating Posterior Probabilities\n",
    "\n",
    "With this ability to query the joint distribution, we can answer a broad range of other questions. For instance, if we want to know the posterior probability of some event $X$ after observing some evidence $e$, we can calculate\n",
    "\n",
    "$$P(X|e) = \\alpha P(X, e) = \\alpha \\sum_{y \\notin \\{X,e\\}} P(X, e, y)$$\n",
    "\n",
    "where $\\alpha$ is a normalization constant set so that $P(X|e) + P(not X|e) = 1$. In our example, if we want to know the probability of a burglary having occured if we receive a call from John and Mary, we can calculate\n",
    "\n",
    "$$\\begin{align*}\n",
    "P(B|J, M) = \\alpha P(B, J, M) &= \\alpha \\sum_{a \\in \\{A, not A\\}}\\sum_{e \\in \\{E, notE\\}} P(B, J, M, a, b, e)\n",
    "\\end{align*}$$\n",
    "\n",
    "where $P(B, J, M, a, b, e)$ is a joint probability calculated as shown above. Substituting the equation for joint probabilities into this expression, we get \n",
    "\n",
    "$$\\begin{align*}\n",
    "P(B | J, M) = \\alpha P(B, J, M) &= \\alpha \\sum_{a \\in \\{A, not A\\}} \\sum_{e \\in \\{E, notE\\}} P(B, J, M, a, B, e) \\\\\n",
    "                              &= \\alpha \\sum_{a \\in \\{A, not A\\}}\\sum_{e \\in \\{E, notE\\}} P(M | a) \\cdot P(J | a) \\cdot P(a | e, B) \\cdot P(e) \\cdot P(B)\n",
    "\\end{align*}$$\n",
    "\n",
    "This is a convenient feature, but without further optimization it is pretty inefficient: we need to multiply $n$ values for each of $2^n$ combinations of variable assignments, so this method has time complexity $O(n2^n)$, which again puts us on the losing side of an exponential term. We've implemented this brute-force algorithm (as described in AIMA 14.4.1) in the cell below. You can see how it performs on the simple network we've defined above; later, we'll benchmark the performance of this algorithm compared to more efficient algorithms when run on larger networks."
   ]
  },
  {
   "cell_type": "code",
   "execution_count": 9,
   "metadata": {},
   "outputs": [],
   "source": [
    "import itertools\n",
    "\n",
    "def brute_force_query(X, e, net):\n",
    "    \"\"\"Returns the NON-NORMALIZED posterior probability P(X=x | e) using the Bayesian network `net`,\n",
    "    using a brute force enumeration method with time complexity O(n2^n), where\n",
    "    n is the number of variables in the network.\n",
    "    \n",
    "    Inputs:\n",
    "        X: a list of tuples (name, value) specifying assignments to query variables\n",
    "        e: a list of tuples (name, value) specifying assignments to evidence variables\n",
    "            (we assume that e and X are disjoint)\n",
    "        net: the bayesian network to calculate over\n",
    "    Outputs:\n",
    "        P: the probability that X=X given e\n",
    "    \"\"\"\n",
    "    # initialize probability\n",
    "    P = 0\n",
    "    \n",
    "    # convert all variable names to nodes in the net\n",
    "    X_nodes = [net.get_node(var[0]) for var in X]\n",
    "    e_nodes = [net.get_node(var[0]) for var in e]\n",
    "    \n",
    "    # extract all assignments to X and e variables\n",
    "    X_assignments = [var[1] for var in X]\n",
    "    e_assignments = [var[1] for var in e]\n",
    "    # a list of (node, assignment) tuples for use in joint queries\n",
    "    X_assignments = zip(X_nodes, X_assignments)\n",
    "    X_assignments = [tuple(x) for x in X_assignments]\n",
    "    e_assignments = zip(e_nodes, e_assignments)\n",
    "    e_assignments = [tuple(x) for x in e_assignments]\n",
    "    \n",
    "    # get the list of variables not in X or e\n",
    "    Y_nodes = [node for node in net.nodes if node not in X_nodes and node not in e_nodes]\n",
    "    \n",
    "    # now we sum the joint probability for all possible combinations of assignments to y\n",
    "    y_assignments = list(itertools.product(*[list(var.domain) for var in Y_nodes]))\n",
    "    \n",
    "    for assignment in y_assignments:\n",
    "        P += net.calc_joint(X_assignments + e_assignments + list(zip(Y_nodes, assignment)))\n",
    "    \n",
    "    return P"
   ]
  },
  {
   "cell_type": "markdown",
   "metadata": {},
   "source": [
    "Using this method, we can determine the probability of a burglary having occured after having received a call from both John and Mary. Don't forget to normalize!"
   ]
  },
  {
   "cell_type": "code",
   "execution_count": 10,
   "metadata": {},
   "outputs": [
    {
     "name": "stdout",
     "output_type": "stream",
     "text": [
      "P(B | j, m) = [0.284, 0.716]\n"
     ]
    }
   ],
   "source": [
    "P_burglary = brute_force_query([('Burglary', True)], [('John', True), ('Mary', True)], alarm_net)\n",
    "P_not_burglary = brute_force_query([('Burglary', False)], [('John', True), ('Mary', True)], alarm_net)\n",
    "\n",
    "# normalize!\n",
    "alpha = 1/(P_burglary + P_not_burglary)\n",
    "P_burglary *= alpha\n",
    "P_not_burglary *= alpha\n",
    "\n",
    "print(\"P(B | j, m) = [{}, {}]\".format(round(P_burglary, 3), round(P_not_burglary, 3)))"
   ]
  },
  {
   "cell_type": "markdown",
   "metadata": {},
   "source": [
    "This works well, but $O(n2^n)$ is horribly slow! It works OK for the simple alarm network, which only has 5 variables ($5*2^5 = 160$), but if we add even just 5 more variables, we would require two orders of magniture more operations (since $10*2^10 = 10240$).\n",
    "\n",
    "To get some efficiency improvements, we can exploit the structure inherent in this network to compute probabilities more easily. Recall that although we could theoretically order the nodes any way we want, we've chosen to structure the alarm network so that it flows from causes to effects. Because of this, we can order the variables so that causes precede effects, which means the equation for the conditional probability from above becomes:\n",
    "\n",
    "$$\\begin{align*}\n",
    "P(B | J, M) &= \\alpha \\sum_{a \\in \\{A, not A\\}}\\sum_{e \\in \\{E, notE\\}} P(B) \\cdot P(e) \\cdot P(a | e, B) \\cdot P(M | a) \\cdot P(J | a)\n",
    "\\end{align*}$$\n",
    "\n",
    "We can reorder the summations and pull some of these terms outside of the sums, since $P(B)$ does not depend on either $a$ nor $e$, and $P(e)$ does not depend on the value of $a$. Thus, we get\n",
    "\n",
    "$$\\begin{align*}\n",
    "P(B | J, M) &= \\alpha P(B) \\cdot \\sum_{e \\in \\{E, notE\\}} P(e) \\cdot \\sum_{a \\in \\{A, not A\\}} P(a | e, B) \\cdot P(M | a) \\cdot P(J | a)\n",
    "\\end{align*}$$\n",
    "\n",
    "This can noticeably reduce the number of expressions we need to evaluate, since we can enumerate the terms in this equation in a depth-first manner, as shown in the algorithm below (and described by Russel & Norvig in Figure 14.9 of AIMA). This algorithm boosts our time complexity from $O(n2^n)$ to $O(2^n)$, which is definitely noticeable but still unfortunately exponential. This is better, but still much slower than what we would like for inference on larger networks. In the next section, we'll discuss an algorithms for efficiently doing inference in polynomial time.\n",
    "\n",
    "The depth-first enumeration query uses the following code:"
   ]
  },
  {
   "cell_type": "code",
   "execution_count": 11,
   "metadata": {},
   "outputs": [],
   "source": [
    "# CITE: Russel & Norvig AIMA Ch 14, Section 4, Fig. 14.9\n",
    "def simple_query(X, e, net):\n",
    "    \"\"\"Returns the NON-NORMALIZED posterior probability P(X=X | e) using the Bayesian network `net`,\n",
    "    using an improved enumeration method with time complexity O(2^n), where n is\n",
    "    the number of variables in the network, using analogue to depth-first search.\n",
    "    \n",
    "    Inputs:\n",
    "        X: a list of tuples (name, value) specifying assignments to query variables\n",
    "        e: a list of tuples (name, value) specifying assignments to evidence variables\n",
    "            (we assume that e and X are disjoint)\n",
    "        net: the bayesian net to calculate over\n",
    "    Outputs:\n",
    "        P: the probability that X=X given e\n",
    "    \"\"\"\n",
    "    # augment e with known values of X\n",
    "    augmented_e = X+e\n",
    "    augmented_e = dict(augmented_e)\n",
    "    # get names of all variables, in topographical order (from fewest parents to most parents)\n",
    "    variables = [node.name for node in net.get_topological_ordering()]\n",
    "    # recursively compute conditional probability\n",
    "    return enumerate_all(variables, augmented_e, net)\n",
    "\n",
    "def enumerate_all(variables, e, net):\n",
    "    \"\"\"Computes one step in the depth-first iteration of the Bayesian network\n",
    "    \n",
    "    Inputs:\n",
    "        variables: a list of the names of variables to be enumerated, ordered from parents to children\n",
    "        e: a dict with keys name and values specifying assignments to variables of that name\n",
    "        net: the bayesian net to calculate over\n",
    "    Outputs:\n",
    "        P: the marginal probability P(e=e)\n",
    "    \"\"\"\n",
    "    # base case\n",
    "    if len(variables) == 0:\n",
    "        return 1.0\n",
    "    \n",
    "    # get first and rest of variables to enumerate\n",
    "    y_first = variables[0]\n",
    "    y_first_node = net.get_node(y_first)\n",
    "    y_rest = variables[1:]\n",
    "    \n",
    "    # note that since we requrie variables to be ordered so that parents appear before children,\n",
    "    # we know that all parents of y_first will already be in e (if y_first has parents)\n",
    "    parent_assignments = []\n",
    "    for parent in y_first_node.parents:\n",
    "        assert (parent.name in e), \"Variable names must be ordered so that parents appear before all their children\"\n",
    "        parent_assignments.append((parent, e[parent.name]))\n",
    "    \n",
    "    if y_first in e:\n",
    "        # then y_first has an assignment specified in e\n",
    "        y_first_val = e[y_first]\n",
    "        return y_first_node.get_prob_value(y_first_val, parent_assignments) * enumerate_all(y_rest, e, net)\n",
    "    else:\n",
    "        # sum over all possible assignments of y_first\n",
    "        sum = 0\n",
    "        # we'll augment e with each possible assignment of y, so we need a copy\n",
    "        e_aug = e.copy()\n",
    "        for y_first_val in y_first_node.domain:\n",
    "            e_aug[y_first] = y_first_val\n",
    "            sum += y_first_node.get_prob_value(y_first_val, parent_assignments) * enumerate_all(y_rest, e_aug, net)\n",
    "        return sum"
   ]
  },
  {
   "cell_type": "markdown",
   "metadata": {},
   "source": [
    "Just like we could using the brute-force method, we can use this method to determine the probability of a burglary having occured after having received a call from both John and Mary. Again, don't forget to normalize!\n",
    "\n",
    "(Hopefully the answer we get in this cell matches the probability we calculated above using the brute-force method)."
   ]
  },
  {
   "cell_type": "code",
   "execution_count": 12,
   "metadata": {},
   "outputs": [
    {
     "name": "stdout",
     "output_type": "stream",
     "text": [
      "P(B | j, m) = [0.284, 0.716]\n"
     ]
    }
   ],
   "source": [
    "P_burglary = simple_query([('Burglary', True)], [('John', True), ('Mary', True)], alarm_net)\n",
    "P_not_burglary = simple_query([('Burglary', False)], [('John', True), ('Mary', True)], alarm_net)\n",
    "\n",
    "# normalize!\n",
    "alpha = 1/(P_burglary + P_not_burglary)\n",
    "P_burglary *= alpha\n",
    "P_not_burglary *= alpha\n",
    "\n",
    "print(\"P(B | j, m) = [{}, {}]\".format(round(P_burglary, 3), round(P_not_burglary, 3)))"
   ]
  },
  {
   "cell_type": "markdown",
   "metadata": {},
   "source": [
    "To compare the performance of these two different methods, we can use the slightly more complicated cyberattack example. Run the below cell to see whether we observe a speedup from the simple query method."
   ]
  },
  {
   "cell_type": "code",
   "execution_count": 13,
   "metadata": {},
   "outputs": [],
   "source": [
    "import time\n",
    "\n",
    "# For a more scientific benchmark, we can average the performance over several function calls.\n",
    "N = 1000\n",
    "simple_runtimes = []\n",
    "brute_runtimes = []\n",
    "\n",
    "for i in range(N):\n",
    "    ## Brute Force\n",
    "    # time\n",
    "    brute_force_start = time.time()\n",
    "\n",
    "    # given that workstation 1 is up and workstation 2 is down,\n",
    "    # what is the probability that the 1st attack vector is being exploited\n",
    "    P_a1 = brute_force_query([('Attack1', 'Attacked')], [('Workstation1', 'Up'), ('Workstation2', 'Down')], star_net)\n",
    "    P_not_a1 = brute_force_query([('Attack1', 'Safe')], [('Workstation1', 'Up'), ('Workstation2', 'Down')], star_net)\n",
    "\n",
    "    # normalize!\n",
    "    alpha = 1/(P_burglary + P_not_burglary)\n",
    "    P_burglary *= alpha\n",
    "    P_not_burglary *= alpha\n",
    "\n",
    "    # end timer\n",
    "    brute_force_stop = time.time()\n",
    "\n",
    "    ## Simple query\n",
    "    # time\n",
    "    simple_start = time.time()\n",
    "\n",
    "    # given that workstation 1 is up and workstation 2 is down,\n",
    "    # what is the probability that the 1st attack vector is being exploited\n",
    "    P_a1 = simple_query([('Attack1', 'Attacked')], [('Workstation1', 'Up'), ('Workstation2', 'Down')], star_net)\n",
    "    P_not_a1 = simple_query([('Attack1', 'Safe')], [('Workstation1', 'Up'), ('Workstation2', 'Down')], star_net)\n",
    "\n",
    "    # normalize!\n",
    "    alpha = 1/(P_burglary + P_not_burglary)\n",
    "    P_burglary *= alpha\n",
    "    P_not_burglary *= alpha\n",
    "\n",
    "    # end timer\n",
    "    simple_stop = time.time()\n",
    "    \n",
    "    simple_runtimes.append(simple_stop - simple_start)\n",
    "    brute_runtimes.append(brute_force_stop - brute_force_start)"
   ]
  },
  {
   "cell_type": "code",
   "execution_count": 14,
   "metadata": {},
   "outputs": [
    {
     "name": "stdout",
     "output_type": "stream",
     "text": [
      "                    | Brute-Force Query | Simple Query\n",
      "------------------------------------------------------\n",
      "  Avg. Runtime (ms) |          1.666084 |    0.509396 \n",
      "Std. deviation (ms) |          0.346077 |    0.179902 \n"
     ]
    }
   ],
   "source": [
    "simple_mean = 1000*np.mean(simple_runtimes)\n",
    "brute_mean = 1000*np.mean(brute_runtimes)\n",
    "simple_std = 1000*np.std(simple_runtimes)\n",
    "brute_std = 1000*np.std(brute_runtimes)\n",
    "\n",
    "print(\"                    | Brute-Force Query | Simple Query\")\n",
    "print(\"------------------------------------------------------\")\n",
    "print(\"  Avg. Runtime (ms) | {:17.6f} | {:11.6f} \".format(brute_mean, simple_mean))\n",
    "print(\"Std. deviation (ms) | {:17.6f} | {:11.6f} \".format(brute_std, simple_std))"
   ]
  },
  {
   "cell_type": "markdown",
   "metadata": {},
   "source": [
    "That's pretty good! We shave $67\\%$ off of the query time! But, as we'll see in the next section, we can still do better by using more sophisticated algorithms."
   ]
  },
  {
   "cell_type": "markdown",
   "metadata": {},
   "source": [
    "## Bucket Elimination"
   ]
  },
  {
   "cell_type": "markdown",
   "metadata": {},
   "source": [
    "Instead of implementing brute force and jumping straight to find the assignment that maximizes probability, we can eliminate some variables. The complexity of each summation is exponential in the number of variables being summed over. The brute force method is particularly slow because of the number of variables being summed over. We can instead create smaller sums by moving sums within products in the expression of the joint distribution. We leverage the fact that for any function $f$ and $g$ and random variables $X$ and $Y$: \n",
    "$$\\sum_{X} \\prod_{X,Y} g(Y)f(X,Y) = \\prod_{X,Y} g(Y) \\sum_X f(X,Y)$$\n",
    "Using our previous example, we have the joint distribution: \n",
    "$$P(M,J) = \\sum_{A,B,E} P(A|B,E)P(E)P(B)P(M|A)P(J|A)$$ \n",
    "We can now create smaller sums by moving sums within products, or eliminate variables by marginalization: \n",
    "$$P(M,J) = \\sum_{A} P(J|A)P(M|A) \\sum_{B} P(B) \\sum_{E} P(E) P(A|B,E) $$ "
   ]
  },
  {
   "cell_type": "markdown",
   "metadata": {},
   "source": [
    "When maximizing a distribution, the number of elements maximized over is exponential in the number of variables we are maximizing. As in the case of moving sums within products, we can also reduce the number of elements maximized over by moving maximizations within products. We use the fact that for any function $f$ and $g$ and random variable $X$ with domain $D_X$ and random variable $Y$: \n",
    "$$ \\max_{X \\in D_X} \\prod_{X,Y} f(X,Y) g(Y) = \\prod_{X,Y} g(Y) \\max_{X \\in D_X} f(X,Y)$$  \n",
    "\n",
    "Returning to our example: \n",
    "$$\\max_{A,B,E} P(M,J,A,B,E) = \\max_{A,T,N}\\sum_{A,B,E} P(A|B,E)P(E)P(B)P(M|A)P(J|A)$$\n",
    "$$\\max_{A,B,E} P(M,J,A,B,E) = \\max_{A} \\sum_{A} P(J|A)P(M|A) \\max_{B} \\sum_{B} P(B) \\max_{E} \\sum_{E} P(E) P(A|B,E) $$ "
   ]
  },
  {
   "cell_type": "markdown",
   "metadata": {},
   "source": [
    "Understanding that eliminating variables simplifies the calculation of joint distributions and determining the Maximum A Posteriori Hypothesis, we study and implement a systematic approach to eliminate variables. This procedure is called Bucket Elimination. "
   ]
  },
  {
   "cell_type": "markdown",
   "metadata": {},
   "source": [
    "We can use Bucket Elimination to marginalize variables of a joint distribution. In bucket $x_i$ we place all factors containing $x_i$. For the bucket of variable $N$ we may have: \n",
    "\n",
    "$$ Bucket(N) = {P(M|A,N),P(N)}$$ \n",
    "\n",
    "To eliminate the variable $x_i$, we multiply the factors and sum out $x_i$. For our example Bucket(N), we define \n",
    "\n",
    "$${\\lambda_{N}}(M,A) = \\sum_{N} P(M|A,N)P(N). $$ \n",
    "\n"
   ]
  },
  {
   "cell_type": "code",
   "execution_count": 7,
   "metadata": {},
   "outputs": [
    {
     "ename": "IndentationError",
     "evalue": "expected an indented block (<ipython-input-7-1bae83b15f94>, line 6)",
     "output_type": "error",
     "traceback": [
      "\u001b[0;36m  File \u001b[0;32m\"<ipython-input-7-1bae83b15f94>\"\u001b[0;36m, line \u001b[0;32m6\u001b[0m\n\u001b[0;31m    bucket = dict()\u001b[0m\n\u001b[0m         ^\u001b[0m\n\u001b[0;31mIndentationError\u001b[0m\u001b[0;31m:\u001b[0m expected an indented block\n"
     ]
    }
   ],
   "source": [
    "def BucketElimination(P,X,A,e):\n",
    "#Input: A belief network{P1, ..., Pn}, ordered random variables X, hypothesis A, and observation E = e, where A, E ⊆ X.\n",
    "#Output: MAP, given e.\n",
    "\n",
    "# 1. Initialize: distribute factors Pi over bucket1, ... , bucketn, where bucketi contains all factors whose highest variable is Xi.\n",
    "    bucket = dict() \n",
    "    for x in X: \n",
    "        bucket[x]=list()\n",
    "        for p in P: \n",
    "            if p.name == x or x in p.parents: \n",
    "                bucket[x].append(p)\n",
    "                P.remove(p)\n",
    "            \n",
    "# 2. Process buckets \n",
    "    Xr = X.reverse() \n",
    "    for p in Xr, \n",
    "        for factor in bucket[p]:\n",
    "            if factor.state == p and p in e:\n",
    "                \n",
    "            \n",
    "            #assign Xp = xp to each ⋋i and add to the appropriate bucket.\n",
    "        else:\n",
    "        #multiply and sum or maximize and add to the appropriate bucket \n",
    "\n",
    "# 3. Forward: Assign values to A.\n",
    "#Variable ordering is restricted: max-buckets precede (be processed after) summation buckets."
   ]
  },
  {
   "cell_type": "markdown",
   "metadata": {},
   "source": [
    "## Evaluation of Bucket Elimination Performance "
   ]
  },
  {
   "cell_type": "markdown",
   "metadata": {},
   "source": [
    "## Illustration of Bucket Elimination in Star Wars Example"
   ]
  },
  {
   "cell_type": "markdown",
   "metadata": {},
   "source": [
    "# Approximate Inference:\n",
    "\n",
    "So far in this notebook, we've stuck with relatively small nets and simple distributions. That means that doing exact inference - calculating analytically exactly what some distribution will look like - is possible. For a lot of problems that we care about, though, exact inference isn't possible. There are lots of reasons this might happen: some distribution is wonky and therefore can't be reasoned about analytically, a net is so complex that doing all the math to marginalize out variables seems impossible, etc.\n",
    "\n",
    "But we don't have to give up. In the following examples, we'll implement two sorts of approximate inference techniques: rejection sampling and Gibbs sampling."
   ]
  },
  {
   "cell_type": "markdown",
   "metadata": {},
   "source": [
    "## Rejection Sampling:\n",
    "One of the simplest approximate inference algorithms is called rejection sampling. The basic idea is to generate samples from the joint distribution (so, sample all the variables), and then reject any samples that don't match the evidence. By keeping track of the samples that do match the evidence, you can slowly generate examples of what the net looks like when fitting the evidence. In other words, you get a distribution over the joint, conditioned on the evidence, which is exactly what you want.\n",
    "\n",
    "There is a key drawback to rejection sampling, though: if the evidence you are conditioning on is unlikely, you'll have to reject lots of samples before you have a reasonable number of samples you can keep.\n",
    "\n",
    "In the next cell, we implement rejection sampling and produce both the inferred distribution and metrics that track how many samples we had to reject. You'll see that as we condition on rarer events, the percentage of samples we reject increases substantially."
   ]
  },
  {
   "cell_type": "code",
   "execution_count": 5,
   "metadata": {},
   "outputs": [],
   "source": [
    "def initialize_state_tracker(X, net):\n",
    "    var_to_val_to_count = {}\n",
    "    for x in X:\n",
    "        var_to_val_to_count[x] = {}\n",
    "        for val in net.get_node(x).domain:\n",
    "            var_to_val_to_count[x][val] = 0\n",
    "    return var_to_val_to_count\n",
    "\n",
    "# Helper method that establishes if a node being set to a value matches the evidence given.\n",
    "def matches_evidence(node, value, evidence):\n",
    "    for evidence_name, evidence_value in evidence:\n",
    "        if node.name == evidence_name:\n",
    "            if value == evidence_value:\n",
    "                return True\n",
    "            return False\n",
    "    return True\n",
    "\n",
    "def compute_dist_from_history(var_to_val_to_count):\n",
    "    for x in var_to_val_to_count.keys():\n",
    "        relevant_counts = var_to_val_to_count.get(x)\n",
    "        total_count = sum([count for count in relevant_counts.values()])\n",
    "        normalized_distribution = {}\n",
    "        for value, count in relevant_counts.items():\n",
    "            normalized_distribution[value] = count / total_count\n",
    "        print(\"Distribution for \", x, \":\", normalized_distribution)\n",
    "    \n",
    "# Implementation of rejection sampling.\n",
    "# X: list of strings of the names of nodes we want to get the distribution of\n",
    "# e: list of tuples of (variable name, assignment) that we use as evidence to condition on\n",
    "# net: the BayesNet object describing the probabilistic relationships between the nodes.\n",
    "# num_samples: integer number of samples to generate. (Note: this is not the number of samples to keep, just to generate.)\n",
    "def rejection_sampling(X, e, net, num_samples=10000):\n",
    "    # For each of the variables in X, store a count of how often each value in the domain appears.\n",
    "    # Intialization to zero counts everywhere.\n",
    "    var_to_val_to_count = initialize_state_tracker(X, net)\n",
    "    \n",
    "    # Now generate samples in the net, rejecting a sample if it doesn't match the evidence.\n",
    "    num_samples_rejected = 0\n",
    "    for sample_idx in range(num_samples):\n",
    "        # Get a topological ordering to start sampling.\n",
    "        ordered_nodes = net.get_topological_ordering()\n",
    "        assignments = {}\n",
    "        reject_sample = False\n",
    "        for node in ordered_nodes:\n",
    "            if node.marginal_distribution:\n",
    "                sample = node.draw_sample()\n",
    "                assignments[node] = sample\n",
    "            else:\n",
    "                parent_val_assignments = [(parent, assignments.get(parent)) for parent in node.parents]\n",
    "                sample = node.draw_sample(parent_vals=parent_val_assignments)\n",
    "                assignments[node] = sample\n",
    "            # Reject if the node that was sampled contradicts the evidence\n",
    "            if not matches_evidence(node, sample, e):\n",
    "                reject_sample = True\n",
    "                break  # No point in continuing to sample further nodes if one already doesn't match e.\n",
    "        if reject_sample:\n",
    "            num_samples_rejected += 1\n",
    "            continue\n",
    "        # Matched the evidence, so update the counts of valid variable assignments\n",
    "        for assigned_node, assigned_val in assignments.items():\n",
    "            if assigned_node.name in var_to_val_to_count.keys():\n",
    "                var_to_val_to_count[assigned_node.name][assigned_val] += 1\n",
    "    # We have the counts that we can use to compute probabilities, so do the final synthesis.\n",
    "    compute_dist_from_history(var_to_val_to_count)\n",
    "    # And print out metrics about how many samples were rejected\n",
    "    print(\"Percentage of samples rejected\", num_samples_rejected / num_samples)"
   ]
  },
  {
   "cell_type": "code",
   "execution_count": 7,
   "metadata": {},
   "outputs": [
    {
     "name": "stdout",
     "output_type": "stream",
     "text": [
      "Distribution for  Attack1 : {'Attacked': 0.16601752677702045, 'Safe': 0.8339824732229796}\n",
      "Percentage of samples rejected 0.3838\n",
      "Distribution for  Attack1 : {'Attacked': 0.17741347905282331, 'Safe': 0.8225865209471767}\n",
      "Distribution for  Subsystem2 : {'Offline': 0.22586520947176686, 'Online': 0.7741347905282332}\n",
      "Percentage of samples rejected 0.7255\n"
     ]
    }
   ],
   "source": [
    "# Test the rejection sampling code.\n",
    "# First, a really simple example.\n",
    "rejection_sampling(['Attack1'], [('Workstation1', 'Up')], star_net)\n",
    "# Now, a harder one, with evidence that is less likely. The percentage of rejections increases substantially.\n",
    "rejection_sampling(['Attack1', 'Subsystem2'], [('Workstation4', 'Down'), ('Subsystem1', 'Online')], star_net)\n"
   ]
  },
  {
   "cell_type": "markdown",
   "metadata": {},
   "source": [
    "## Gibbs Sampling\n",
    "Now that we have a handle on rejection sampling, let's see if we can use some of the same ideas (sampling instead of exact calculations) without paying the cost of a huge number of samples that we discard.\n",
    "\n",
    "In Gibbs sampling, the basic idea is to form a Markov Chain (MC) over the joint states. In one timestep, the MC will have a full assignment. In the next, exactly one of the variables in the net will be randomly sampled, conditioned on its Markov blanket. That means that either zero or one variables changes at each timestep.\n",
    "\n",
    "It turns out (and AIMA explains the theory in far more depth), that if you run an MC like this for a long time, assuming some nice properties of the Bayes Net, the distribution of joint states visited in the MC exactly matches the joint distribution of the net. Furthermore, conditioning on variables being assigned to specific values becomes extremely easy: when transitioning to the next state in the MC, never change the evidence variables from their assigned values. That means that every single state the MC visits will match the evidence, neatly fixing the issue with rejection sampling's inefficiency.\n",
    "\n",
    "Unfortunately, Gibbs sampling isn't just a pure win. How one intializes all the variables to start of the MC can matter, at least in the short term. Imagine if the net were initialized to some extremely unlikely configuration and the MC were only run for a short time. The empirical distribution would likely not reflect the true distribution. The good news is that, over time, the effects of the initialization should wear off. That's why many researchers use what's called a \"burn in\" period - some number of samples where you run the MC after initialization but without recording any of the data. How long is long enough for burn in? That's an open research question."
   ]
  },
  {
   "cell_type": "code",
   "execution_count": null,
   "metadata": {},
   "outputs": [],
   "source": [
    "def initialize_assignments(net):\n",
    "    assignments = {}\n",
    "    ordered_nodes = net.get_topological_ordering()\n",
    "    for node in ordered_nodes:\n",
    "        if node.marginal_distribution:\n",
    "            sample = node.draw_sample()\n",
    "            assignments[node] = sample\n",
    "        else:\n",
    "            parent_val_assignments = [(parent, assignments.get(parent)) for parent in node.parents]\n",
    "            sample = node.draw_sample(parent_vals=parent_val_assignments)\n",
    "            assignments[node] = sample\n",
    "    return assignments\n",
    "\n",
    "def gibbs_sampling(X, e, net, burn_in_period=100, eval_period=5000):\n",
    "    # For each of the variables in X, store a count of how often each value in the domain appears.\n",
    "    var_to_val_to_count = initialize_state_tracker(X, net)\n",
    "    \n",
    "    evidence_names = [evidence[0] for evidence in e]\n",
    "    \n",
    "    # Intialize the net with random assignments.\n",
    "    assignments = initialize_assignments(net)\n",
    "    \n",
    "    # Run the MC.\n",
    "    all_nodes = net.nodes\n",
    "    for trial in range(burn_in_period + eval_period):\n",
    "        # Choose a random node, as long as it's not evidence.\n",
    "        node_to_swap = np.random.choice(all_nodes)\n",
    "        while node_to_swap.name in evidence_names:\n",
    "            node_to_swap = np.random.choice(all_nodes)\n",
    "        # Generate the distribution over next possible values of the node, conditioned on the Markov blanket of the node.\n",
    "        parent_assignments = [(parent, assignments.get(parent)) for parent in node_to_swap.parents]\n",
    "        children = net.get_children(node_to_swap)\n",
    "        \n",
    "        # For each possible next value the node could take, find the likelihood, conditioned on the\n",
    "        # Markov blanket.\n",
    "        next_distribution = {}\n",
    "        for next_val in node_to_swap.domain:\n",
    "            prob_given_parents = node_to_swap.get_prob_value(next_val, parent_assignments)\n",
    "            # Calculate the probability of the children's values given the next assignment\n",
    "            prob_of_children = 1.0\n",
    "            for child in children:\n",
    "                childs_parent_assignments = []\n",
    "                # For the child's parents, take the existing values except for the value for the current node,\n",
    "                # which must be replaced with next_val.\n",
    "                for parent in child.parents:\n",
    "                    if parent == node_to_swap:\n",
    "                        childs_parent_assignments.append((node_to_swap, next_val))\n",
    "                        continue\n",
    "                    childs_parent_assignments.append((parent, assignments.get(parent)))\n",
    "                prob_of_child = child.get_prob_value(assignments.get(child), childs_parent_assignments)\n",
    "                prob_of_children = prob_of_children * prob_of_child\n",
    "            total_prob = prob_given_parents * prob_of_children\n",
    "            next_distribution[next_val] = total_prob\n",
    "        # Normalize the distribution.\n",
    "        normalizing_factor = sum(next_distribution.values())\n",
    "        for entry, val in next_distribution.items():\n",
    "            next_distribution[entry] = val / normalizing_factor\n",
    "        # Sample from the distribution to make the assignment.\n",
    "        values = [entry[0] for entry in sorted(next_distribution.items())]\n",
    "        probabilities = [entry[1] for entry in sorted(next_distribution.items())]\n",
    "        sampled = np.random.choice(values, p=probabilities)\n",
    "        assignments[node_to_swap] = sampled\n",
    "        # If after burn-in, start saving data\n",
    "        if trial <= burn_in_period:\n",
    "            continue\n",
    "        # Save the data.\n",
    "        for assigned_node, assigned_val in assignments.items():\n",
    "            if assigned_node.name in var_to_val_to_count.keys():\n",
    "                var_to_val_to_count[assigned_node.name][assigned_val] += 1\n",
    "\n",
    "    compute_dist_from_history(var_to_val_to_count)"
   ]
  },
  {
   "cell_type": "code",
   "execution_count": null,
   "metadata": {},
   "outputs": [],
   "source": [
    "# Test out Gibbs with the same examples as for rejection sampling\n",
    "gibbs_sampling(['Attack1'], [('Workstation1', 'Up')], star_net)\n",
    "print()\n",
    "gibbs_sampling(['Attack1', 'Subsystem2'], [('Workstation4', 'Down'), ('Subsystem1', 'Online')], star_net)"
   ]
  },
  {
   "cell_type": "code",
   "execution_count": null,
   "metadata": {},
   "outputs": [],
   "source": []
  }
 ],
 "metadata": {
  "kernelspec": {
   "display_name": "Python 3",
   "language": "python",
   "name": "python3"
  },
  "language_info": {
   "codemirror_mode": {
    "name": "ipython",
    "version": 3
   },
   "file_extension": ".py",
   "mimetype": "text/x-python",
   "name": "python",
   "nbconvert_exporter": "python",
   "pygments_lexer": "ipython3",
   "version": "3.7.1"
  }
 },
 "nbformat": 4,
 "nbformat_minor": 2
}
