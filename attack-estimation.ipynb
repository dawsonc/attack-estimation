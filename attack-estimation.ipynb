{
 "cells": [
  {
   "cell_type": "markdown",
   "metadata": {},
   "source": [
    "# Bayesian Networks for Estimating Attack Vector\n",
    "\n",
    "## Intro & motivating example\n",
    "\n",
    "Humans are notoriously bad at reasoning about probabilities: more often than not, we rely on cognitive shortcuts (heuristics and biases) instead of actually calculating the liklihood of events. This can be a good thing; just think how paralyzed we would be if we stopped to calculate the probability of rain every time we heard raindrops on our window, rather than just grabbing an umbrella! Even computers can start to run into tractability problems when working with probability distributions involving even a few dozen variables. In this tutorial, we will introduce a tool, called Bayesian networks, for automatically and efficiently reasoning about probabilities. These networks will allow us to ask questions like \"given this new evidence, what is the probability of some hidden variable being true\" or \"what is the most likely explanation for some set of observations?\". These questions might remind you of our lectures on Hidden Markov Models (HMMs); it turns out that Bayesian networks can be used to represent Markov processes, but they are much more expressive and can be used to model much more complicated scenarios.\n",
    "\n",
    "To make this discussion more concrete, it's helpful to have a motivating example. You are a security engineer in the employ of the Generic Galactic Empire aboard a controversial new ~~moon~~ space station. You are aware of several security vulnerabilities in the space station's software subsystems, but you have no way to detect whether those vulnerabilities are being exploited except by running diagnostics on various workstations throughout the station. Since you'd like to be able to detect attacks based on the probability that a vulnerability is being exploited, you'd like an easy way to relate your observations of workstations to the probability of a cyberattack taking place. After a brief review of probability fundamentals, we'll discuss how Bayesian networks can be used to model this situation and make inferences automatically.\n",
    "\n",
    "### References\n",
    "The discussion in this tutorial draws heavily from the following sources:\n",
    "- Russell & Norvig, AIMA, Chapter 13 & 14\n",
    "- [R. Dechter, \"Bucket Elimination: A Unifying Framework for Probabilistic Inference\"](https://webdocs.cs.ualberta.ca/~rgreiner/C-366/RG-2002-SLIDES/BucketElim.pdf) \n",
    "\n",
    "Chapter 13 of AIMA provides an overview of probability fundamentals, while chapter 14 discusses Bayesian networks in more depth. Dechter's article describes efficient algorithms for making inference based on Bayesian networks."
   ]
  },
  {
   "cell_type": "markdown",
   "metadata": {},
   "source": [
    "## Probability Review\n",
    "- This section won't provide a huge overview of probability, but just a reminder of the relevant parts.\n",
    "- Random variables and joint probability distributions (for n binary variables, requires 2^n storage)\n",
    "- Reasoning using joint distributions (13.3)\n",
    "    - just read out e.g. P(A ^ B)\n",
    "    - marginalization to get marginal probability e.g. just P(A) = P(A ^ B) + P(A ^ !B) (plus general eq.)\n",
    "    - Conditional/posterior probabilities, product rule P(A ^ B) = P(A | B)P(B), and conditioning (marginalization but with conditional probs).\n",
    "    - Derive P(X|e) = P(X^e)/P(e) = aP(X^e) = a \\sum_y P(X, e, y) (normalization to get a so that P(X|e)+P(!X|e)=1\n",
    "    - Remark: this would allow us to answer whatever queries we want to ask just by looking in the joint distribution table. BUT that table has size O(2^n) and requires O(2^n) to process by summing over it.\n",
    "- Reasoning using conditional distributions (13.4)\n",
    "    - Lots of redundant information in full joint distribution (like how your toothache affects the weather, ignoring causality)\n",
    "    - Independence! Conditional independence (based on causality)!\n",
    "    - Allows factoring the joint distribution into multiple smaller conditional distributions, saving on size. 2^n+2^m << 2^{n+m}    "
   ]
  },
  {
   "cell_type": "markdown",
   "metadata": {},
   "source": [
    "## Bayesian Networks\n",
    "\n",
    "Exploiting conditional independence can allow us to reason much more efficiently about joint probabilities, but it would be really nice if we could automate the inference process by encoding conditional probabilities in a convenient data structure. Since dependence relates each variable to a set of \"parent\" variables, a natural structure is a directed graph, where\n",
    "- Each node corresponds to an uncertain variable (in this tutorial, we'll restrict ourselves to discrete random variables),\n",
    "- If variable $B$ is dependent on $A$, then we draw a directed edge from node `A` to node `B` in the graph, and\n",
    "- Each node $X$ is labelled with its conditional probability distribution $P(X\\ |\\ \\text{Parents}(X))$, which takes the form of a table with a row for each combination of assignments to the parent variables of $X$, specifying the probabilities that $X$ takes on each of its values conditioned on those parent variable assignments.\n",
    "\n",
    "Since we don't want any variable to depend (directly or indirectly) on itself, this graph must not have any directed cycles (making it a *directed acyclic graph*. An example graph is shown in the figure below. Given this structure, we can see that it directly encodes both independence and conditional independence: sibling nodes (i.e. nodes sharing a parent) are conditionally independent, while nodes in disconnected graphs are independent.\n",
    "\n",
    "We call this data structure a Bayesian network (or sometimes a *belief network* or *causal network*). These networks can represent any full joint distribution, but depending on the degree to which causal relationships allow us to factor the joint distribution into smaller conditional distributions, Bayesian networks can encode this information much more compactly. In the next example, we'll give a simple example of a Bayesian network and show how we can make inference based on these networks."
   ]
  },
  {
   "cell_type": "markdown",
   "metadata": {},
   "source": [
    "### A simple example\n",
    "\n",
    "Before moving on to the more complicated case of our original motivating problem, we'll use the simpler scenario from Fig. 14.2 in Russel & Norvig to illustrate the key features of Bayesian networks. In this scenario, you've just installed a new alarm in your house, and since you don't want Google spying on your home, you've chosen not to connect the alarm to the internet. Instead, you've asked your neighbors, John and Mary, to listen for the alarm and call you if they hear it going off. Complicating matters, the alarm will go off if a burglary occurs, but it is a little too sensitive and will also go off if an earthquake occurs. In addition, John will will sometimes confuse a telephone ringing for the alarm and call then as well, and because Mary likes listening to loud music, she will sometimes miss the alarm altogether.\n",
    "\n",
    "In this scenario, we essentially have five uncertain boolean variables:\n",
    "+ `B`: whether a burglary has occurred,\n",
    "+ `E`: whether an earthquake has occurred,\n",
    "+ `A`: whether the alarm has gone off,\n",
    "+ `J`: whether John calls you, and\n",
    "+ `M`: whether Mary calls you.\n",
    "\n",
    "Note that only `J` and `M` are observable. If we were to encode the full joint probability distribution, we'd need to store a table of size $O(2^n) = O(32)$. This is not too large in thi scase, but if you have even 30 variables then the joint distribution table would require $O(4$ GB$)$ of storage, and adding a 31st variable would require another 4 GB! We are clearly on the wrong side of this exponential when it comes to the joint distribution.\n",
    "\n",
    "To make the problem more tractable, we can exploit the causal relationships between these variables, allowing us to store a handful of smaller conditional distributions rather than a monolithic joint distribution. The causal structure of this problem leads to the Bayesian network shown in the image below (reprinted from Russell & Norvig):\n",
    "\n",
    "<img src=\"files/figs/alarm-problem-structure.png\">\n",
    "\n",
    "Since `J` and `M` only depend on `A`, we don't need to explicitly store the effect of an earthquake on the probability of John calling. Instead of a 32-entry joint distribution, we only need to store 20 values in 5 smaller conditional distributions. Only 10 entries are shown here because for boolean variables the probability of a false value is fixed at 1-(the probability of a true value). For scenarios with even more variables, these savings would be even more dramatic.\n",
    "\n",
    "It's important to note that the Bayesian network representation is not unique: you can order the variables in any way you want and back out the conditional probability tables from the joint distribution. In this case, we have ordered the nodes from causes to effects (causes at the top, flowing down to effects at the bottom of the network). This is a good heuristic for constructing concise Bayesian networks.\n",
    "\n",
    "We've written classes in `bayes_net.py` implementing the basic functionality of Bayesian networks for you, allowing you to represent these networks programmatically. You should go check out the source code to get an idea of what features are available, and a basic example of constructing a network for this example scenario is given below. To properly load the drawing function, **you must run this cell twice**."
   ]
  },
  {
   "cell_type": "code",
   "execution_count": 2,
   "metadata": {},
   "outputs": [
    {
     "name": "stdout",
     "output_type": "stream",
     "text": [
      "Have 5 nodes and 4 edges\n"
     ]
    },
    {
     "data": {
      "image/png": "[encoded data removed]",
      "text/plain": [
       "<Figure size 432x288 with 1 Axes>"
      ]
     },
     "metadata": {},
     "output_type": "display_data"
    }
   ],
   "source": [
    "## Example code for constructing the simple burglary example from AIMA (Fig. 14.2)\n",
    "from bayes_net import BayesNet, BayesNode\n",
    "import numpy as np\n",
    "\n",
    "# First, instantiate the two nodes that have no parents in the network.\n",
    "# The domain of these variables is just {True, False} here, but we support arbitrary discrete domains\n",
    "burglary_node = BayesNode('Burglary')\n",
    "burglary_node.set_marginal_distribution({True: 0.001, False: 0.999})\n",
    "earthquake_node = BayesNode('Earthquake')\n",
    "earthquake_node.set_marginal_distribution({True: 0.002, False: 0.998})\n",
    "\n",
    "# Now we can instantiate nodes with probabilities conditioned on their parents\n",
    "# We have to build the conditional distribution table one entry at a time, for each combination\n",
    "# of parent variables\n",
    "alarm_node = BayesNode('Alarm')\n",
    "alarm_node.add_entry([(burglary_node, True), (earthquake_node, True)], {True: 0.95, False: 0.05})\n",
    "alarm_node.add_entry([(burglary_node, True), (earthquake_node, False)], {True: 0.94, False: 0.06})\n",
    "alarm_node.add_entry([(burglary_node, False), (earthquake_node, True)], {True: 0.29, False: 0.71})\n",
    "alarm_node.add_entry([(burglary_node, False), (earthquake_node, False)], {True: 0.001, False: 0.999})\n",
    "\n",
    "john_node = BayesNode('John')\n",
    "john_node.add_entry([(alarm_node, True)], {True: 0.9, False: 0.1})\n",
    "john_node.add_entry([(alarm_node, False)], {True: 0.05, False: 0.95})\n",
    "\n",
    "mary_node = BayesNode('Mary')\n",
    "mary_node.add_entry([(alarm_node, True)], {True: 0.7, False: 0.3})\n",
    "mary_node.add_entry([(alarm_node, False)], {True: 0.01, False: 0.99})\n",
    "\n",
    "# Now we can create a BayesNet object to store all the nodes.\n",
    "alarm_net = BayesNet([burglary_node, earthquake_node, alarm_node, john_node, mary_node])\n",
    "\n",
    "# As a sanity check, we can visualize the network to make sure it matches our model above.\n",
    "# This visualization is auto-generated, so it will be a bit messy, but we can still see\n",
    "# the overall structure of the network.\n",
    "alarm_net.draw_net()"
   ]
  },
  {
   "cell_type": "markdown",
   "metadata": {},
   "source": [
    "### Inference on Bayesian Networks\n",
    "\n",
    "Now that we've constructed a bayesian network, what can we do with it? First of all, we can use the network to query the full joint probability distribution as well as asking other questions based on joint probabilities.\n",
    "\n",
    "#### Calculating Joint Probabilities\n",
    "\n",
    "In general, the joint probability for variable assignments $x_1,\\ldots, x_n$ is given by\n",
    "\n",
    "$$P(x_1,\\ldots, x_n) = \\prod_{i=1}^n P(x_i\\ |\\ \\text{Parents}(x_i))$$\n",
    "\n",
    "where we can simply read $P(x_i\\ |\\ \\text{Parents}(x_i)$ out of the conditional distribution attached to node `x_i`. In the context of our specific example, say we want to know the probability `B = True`, `E = False`, `A = True`, `J = True`, `M = True` (the probability that we got a call from John and Mary, the alarm has gone off, there has been a burglary, and there has been no earthquake). Using the general formula above, we get this joint probability as:\n",
    "\n",
    "$$\\begin{align*}\n",
    "P(M, J, A, not E, B) &= P(M | A) \\cdot P(J |A) \\cdot P(A | not E, B) \\cdot P(not E) \\cdot P(B) \\\\\n",
    "                     &= 0.7 \\cdot 0.9 \\cdot 0.94 \\cdot 0.998 \\cdot 0.001 \\\\\n",
    "                     &= 0.00059\n",
    "\\end{align*}$$\n",
    "\n",
    "This functionality is implemented in the provided `BayesNet` class, which we can query directly as shown below."
   ]
  },
  {
   "cell_type": "code",
   "execution_count": 3,
   "metadata": {},
   "outputs": [
    {
     "name": "stdout",
     "output_type": "stream",
     "text": [
      "P(M, J, A, not E, B) = 0.0005910156\n"
     ]
    }
   ],
   "source": [
    "joint_prob = alarm_net.calc_joint([(mary_node, True), \n",
    "                                   (john_node, True),\n",
    "                                   (alarm_node, True),\n",
    "                                   (earthquake_node, False),\n",
    "                                   (burglary_node, True)])\n",
    "print('P(M, J, A, not E, B) = {}'.format(joint_prob))"
   ]
  },
  {
   "cell_type": "markdown",
   "metadata": {},
   "source": [
    "#### Calculating Posterior Probabilities\n",
    "\n",
    "With this ability to query the joint distribution, we can answer a broad range of other questions. For instance, if we want to know the posterior probability of some event $X$ after observing some evidence $e$, we can calculate\n",
    "\n",
    "$$P(X|e) = \\alpha P(X, e) = \\alpha \\sum_{y \\notin \\{X,e\\}} P(X, e, y)$$\n",
    "\n",
    "where $\\alpha$ is a normalization constant set so that $P(X|e) + P(not X|e) = 1$. In our example, if we want to know the probability of a burglary having occured if we receive a call from John and Mary, we can calculate\n",
    "\n",
    "$$\\begin{align*}\n",
    "P(B|J, M) = \\alpha P(B, J, M) &= \\alpha \\sum_{a \\in \\{A, not A\\}}\\sum_{e \\in \\{E, notE\\}} P(B, J, M, a, b, e)\n",
    "\\end{align*}$$\n",
    "\n",
    "where $P(B, J, M, a, b, e)$ is a joint probability calculated as shown above. Substituting the equation for joint probabilities into this expression, we get \n",
    "\n",
    "$$\\begin{align*}\n",
    "P(B | J, M) = \\alpha P(B, J, M) &= \\alpha \\sum_{a \\in \\{A, not A\\}} \\sum_{e \\in \\{E, notE\\}} P(B, J, M, a, B, e) \\\\\n",
    "                              &= \\alpha \\sum_{a \\in \\{A, not A\\}}\\sum_{e \\in \\{E, notE\\}} P(M | a) \\cdot P(J | a) \\cdot P(a | e, B) \\cdot P(e) \\cdot P(B)\n",
    "\\end{align*}$$\n",
    "\n",
    "This is a convenient feature, but without further optimization it is pretty inefficient: we need to multiply $n$ values for each of $2^n$ combinations of variable assignments, so this method has time complexity $O(n2^n)$, which again puts us on the losing side of an exponential term. We've implemented this brute-force algorithm (as described in AIMA 14.4.1) in the cell below. You can see how it performs on the simple network we've defined above; later, we'll benchmark the performance of this algorithm compared to more efficient algorithms when run on larger networks."
   ]
  },
  {
   "cell_type": "code",
   "execution_count": 53,
   "metadata": {},
   "outputs": [
    {
     "name": "stdout",
     "output_type": "stream",
     "text": [
      "{\n",
      "    \"false\": {},\n",
      "    \"true\": {}\n",
      "}\n",
      "[(True,), (False,)]\n"
     ]
    }
   ],
   "source": [
    "import itertools\n",
    "\n",
    "def init_distribution(X):\n",
    "    \"\"\"Returns an empty distribution in the form of a nested dictionary, where level i\n",
    "    has keys corresponding to values of variable x_i in X, along with a list of\n",
    "    discrete combinations represented in P\"\"\"\n",
    "    P = dict()\n",
    "    domain_combinations = list(itertools.product(*[list(var.domain) for var in X]))\n",
    "    # this loop constructs a series of nested dictionaries, where each level corresponds\n",
    "    # to a variable in X\n",
    "    for assignments in domain_combinations:\n",
    "        previous_level = P\n",
    "        for val in assignments:\n",
    "            if val not in previous_level:\n",
    "                next_level = dict()\n",
    "                previous_level[val] = next_level\n",
    "                previous_level = next_level\n",
    "            else:\n",
    "                previous_level = previous_level[val]\n",
    "    return P, domain_combinations\n",
    "\n",
    "def update(distribution, assignment, value):\n",
    "    \"\"\"Updates the value for the given assignment in the nested dictionary distribution\"\"\"\n",
    "    head = assignment[0]\n",
    "    if type(distribution[head]) is not dict:\n",
    "        distribution[head] = value\n",
    "    else:\n",
    "        update(distribution[head], assignment[1:], value)\n",
    "\n",
    "def brute_force_query(X, e, net):\n",
    "    \"\"\"Returns the posterior probability P(x | e) using the Bayesian network `net`,\n",
    "    using a brute force enumeration method with time complexity O(n2^n), where\n",
    "    n is the number of variables in the network.\n",
    "    \n",
    "    Inputs:\n",
    "        X: a list of nodes for which we will calculate posteriors\n",
    "        e: a list of tuples (node, value) specifying assignments to evidence variables\n",
    "            (we assume that e and X are disjoint)\n",
    "    Outputs:\n",
    "        P: a distribution over the query variables in X\n",
    "    \"\"\"\n",
    "    # initialize distribution for each value in the domains of the variables in X \n",
    "    P, X_assignments = init_distribution(X)\n",
    "    \n",
    "    # get the list of variables not in X or e\n",
    "    e_vars = [var[0] for var in e]\n",
    "    Y = [node for node in net.nodes if node not in X and node not in e_vars]\n",
    "    \n",
    "    # now we need to calculate the conditional probability for each possible assignment in P\n",
    "    for assignment in X_assignments:\n",
    "        pass\n",
    "    pass\n",
    "\n",
    "X = [burglary_node]\n",
    "e_vars = [john_node, mary_node]\n",
    "P, dc = init_distribution(X)\n",
    "print(json.dumps(P, sort_keys=True, indent=4))\n",
    "net = alarm_net\n",
    "y = [node for node in net.nodes if node not in X and node not in e_vars]\n",
    "\n",
    "print(list(itertools.product(*[list(var.domain) for var in X])))"
   ]
  },
  {
   "cell_type": "markdown",
   "metadata": {},
   "source": [
    "- What can they do for you (with reference to the simple example)?\n",
    "    - Answer queries on the joint probability distribution e.g. P(a, b, !c, d, !e) = \\product_i P(x_i | parents(x_i))\n",
    "    - Query the posterior given evidence e.g. P(X | e) = aP(X, e) = a \\sum_{y not x not e} P(X, e, y) <- same as above\n",
    "    - MAP: max liklihood explanation, the X with the highest probability given e."
   ]
  },
  {
   "cell_type": "markdown",
   "metadata": {},
   "source": [
    "## Brute Force Method\n",
    "- Describe brute-force method for getting probability estimates\n",
    "    - 14.4.1\n",
    "    - O(n2^n) for n vars"
   ]
  },
  {
   "cell_type": "markdown",
   "metadata": {},
   "source": [
    "- benchmark the brute force algorithm to show how exponential it is\n",
    "    - Simple example from last section\n",
    "    - Star wars example from this section"
   ]
  },
  {
   "cell_type": "code",
   "execution_count": null,
   "metadata": {},
   "outputs": [],
   "source": [
    "# Run brute_force_query on the two examples to see how long they take"
   ]
  },
  {
   "cell_type": "markdown",
   "metadata": {},
   "source": [
    "- Simple speedup via DFS enumeration-ask alg from book fig 14.9\n",
    "    - Explain how it works\n",
    "    - Still super slow: O(2^n) for n"
   ]
  },
  {
   "cell_type": "code",
   "execution_count": null,
   "metadata": {},
   "outputs": [],
   "source": [
    "# CITE: Russel & Norvig AIMA Ch 14, Section 4, Fig. 14.9\n",
    "def simple_query(X, e, net):\n",
    "    \"\"\"Returns the posterior probability P(x | e) using the Bayesian network `net`,\n",
    "    using an improved enumeration method with time complexity O(2^n), where n is\n",
    "    the number of variables in the network, using analogue to depth-first search.\n",
    "    \n",
    "    Inputs:\n",
    "        X: a list of variable names for which we will calculate posteriors\n",
    "        e: a list of tuples (name, value) specifying assignments to evidence variables\n",
    "            (we assume that e and X are disjoint)\n",
    "    Outputs:\n",
    "        P: a distribution over the query variables in X (a dict mapping names in\n",
    "           X to a probability value)\n",
    "    \"\"\"\n",
    "    pass\n",
    "\n",
    "def enumerate_all(variables, e):\n",
    "    \"\"\"Computes one step in the depth-first iteration of the Bayesian network\"\"\"\n",
    "    pass"
   ]
  },
  {
   "cell_type": "markdown",
   "metadata": {},
   "source": [
    "- benchmark the simple algorithm to show how it performs better than the brute force method\n",
    "    - Simple example from last section\n",
    "    - Star wars example from this section"
   ]
  },
  {
   "cell_type": "code",
   "execution_count": null,
   "metadata": {},
   "outputs": [],
   "source": [
    "# Run simple_force_query on the two examples to see how long they take"
   ]
  },
  {
   "cell_type": "markdown",
   "metadata": {},
   "source": [
    "## Bucket Elimination"
   ]
  },
  {
   "cell_type": "code",
   "execution_count": 1,
   "metadata": {},
   "outputs": [],
   "source": [
    "# This is the main notebook to run.\n",
    "# In this notebook, we go through the \"attack-estimation\" portion of the project.\n",
    "# Some utility code, including base classes, lives in files outside this notebook."
   ]
  },
  {
   "cell_type": "code",
   "execution_count": 2,
   "metadata": {},
   "outputs": [],
   "source": [
    "# A bunch of imports\n",
    "from bayes_net import BayesNet, BayesNode\n",
    "import numpy as np"
   ]
  },
  {
   "cell_type": "code",
   "execution_count": 3,
   "metadata": {},
   "outputs": [
    {
     "name": "stdout",
     "output_type": "stream",
     "text": [
      "0.024000000000000004\n",
      "Have 4 nodes and 3 edges\n"
     ]
    },
    {
     "data": {
      "image/png": "[encoded data removed]",
      "text/plain": [
       "<Figure size 432x288 with 1 Axes>"
      ]
     },
     "metadata": {},
     "output_type": "display_data"
    },
    {
     "name": "stdout",
     "output_type": "stream",
     "text": [
      "Rain\n",
      "Sprinklers\n",
      "Grass\n",
      "Feet\n"
     ]
    }
   ],
   "source": [
    "# A demonstration for developers of how to create a BayesNet. In this example, I define the likelihood of getting\n",
    "# wet feet as a function of wet grass, which is a function of raining and sprinkling.\n",
    "\n",
    "# First, declare a bunch of nodes.\n",
    "rain_node = BayesNode('Rain')\n",
    "rain_node.set_marginal_distribution({True: 0.2, False: 0.8})\n",
    "sprinklers_node = BayesNode('Sprinklers')\n",
    "sprinklers_node.set_marginal_distribution({'on': 0.6, 'off': 0.4})\n",
    "grass_node = BayesNode('Grass')\n",
    "grass_node.add_entry([(rain_node, True), (sprinklers_node, 'on')], {'wet': 0.95, 'dry': 0.05})\n",
    "grass_node.add_entry([(rain_node, True), (sprinklers_node, 'off')], {'wet': 0.6, 'dry': 0.4})\n",
    "grass_node.add_entry([(rain_node, False), (sprinklers_node, 'on')], {'wet': 0.45, 'dry': 0.55})\n",
    "grass_node.add_entry([(rain_node, False), (sprinklers_node, 'off')], {'wet': 0.1, 'dry': 0.90})\n",
    "feet_node = BayesNode('Feet')\n",
    "feet_node.add_entry([(grass_node, 'wet')], {'dry': 0.1, 'damp': 0.5, 'drenched': 0.4})\n",
    "feet_node.add_entry([(grass_node, 'dry')], {'dry': 0.7, 'damp': 0.2, 'drenched': 0.1})\n",
    "\n",
    "# Second, create a BayesNet object that just stores all the nodes.\n",
    "net = BayesNet([rain_node, sprinklers_node, grass_node, feet_node])\n",
    "\n",
    "# Third, do whatever you want with this data structure, like ask for the conditional distribution for a variable.\n",
    "fetched_node = net.get_node('Feet')\n",
    "assert fetched_node == feet_node  # Just a sanity check\n",
    "# Calculate some joint probabilities\n",
    "joint_prob = net.calc_joint([(rain_node, True), (sprinklers_node, 'off'), (feet_node, 'damp'), (grass_node, 'wet')])\n",
    "print(joint_prob)\n",
    "\n",
    "# Fourth, visualize it all. Right now, visualization is crude (weird layout) but should be correct (arrows the right way.)\n",
    "net.draw_net()\n",
    "\n",
    "# Fifth, show off a fancy new topographical ordering method I just wrote.\n",
    "ordered_nodes = net.get_topographical_ordering()\n",
    "for node in ordered_nodes:\n",
    "    print(node.name)"
   ]
  },
  {
   "cell_type": "code",
   "execution_count": null,
   "metadata": {},
   "outputs": [],
   "source": []
  },
  {
   "cell_type": "markdown",
   "metadata": {},
   "source": [
    "Approximate Inference:\n",
    "\n",
    "So far in this notebook, we've stuck with relatively small nets and simple distributions. That means that doing exact inference - calculating analytically exactly what some distribution will look like - is possible. For a lot of problems that we care about, though, exact inference isn't possible. There are lots of reasons this might happen: some distribution is wonky and therefore can't be reasoned about analytically, a net is so complex that doing all the math to marginalize out variables seems impossible, etc.\n",
    "\n",
    "But we don't have to give up. In the following examples, we'll implement two sorts of approximate inference techniques: rejection sampling and Gibbs sampling."
   ]
  },
  {
   "cell_type": "code",
   "execution_count": 4,
   "metadata": {},
   "outputs": [],
   "source": [
    "def matches_evidence(node, value, evidence):\n",
    "    for evidence_name, evidence_value in evidence:\n",
    "        if node.name == evidence_name:\n",
    "            if value == evidence_value:\n",
    "                return True\n",
    "            return False\n",
    "    return True\n",
    "    \n",
    "# In this sampling method, we just generate random setups through sampling.\n",
    "# If we satisfy the evidence, we save the state; if we don't we reject the sample and keep trying.\n",
    "# After saving lots of states, the hope is that we have enough counts to estimate the frequencies of other variables\n",
    "# conditioned on the evidence.\n",
    "def rejection_sampling(X, e, net, num_samples=10000):\n",
    "    # For each of the variables in X, store a count of how often each value in the domain appears.\n",
    "    # Intialization to zero counts everywhere.\n",
    "    var_to_val_to_count = {}\n",
    "    for x in X:\n",
    "        var_to_val_to_count[x] = {}\n",
    "        for val in net.get_node(x).domain:\n",
    "            var_to_val_to_count[x][val] = 0\n",
    "    # Now, just generate tons of samples in the net, rejecting if it doesn't match the evidence.\n",
    "    num_rejects = 0\n",
    "    for sample_idx in range(num_samples):\n",
    "        # Get a topographical ordering to start sampling.\n",
    "        ordered_nodes = net.get_topographical_ordering()\n",
    "        assignments = {}\n",
    "        reject_sample = False\n",
    "        for node in ordered_nodes:\n",
    "            if node.marginal_distribution:\n",
    "                sample = node.draw_sample()\n",
    "                assignments[node] = sample\n",
    "            else:\n",
    "                parent_val_assignments = [(parent, assignments.get(parent)) for parent in node.parents]\n",
    "                sample = node.draw_sample(parent_vals=parent_val_assignments)\n",
    "                assignments[node] = sample\n",
    "            # Do the rejection part if the node that was sampled contradicts the evidence\n",
    "            if not matches_evidence(node, sample, e):\n",
    "                reject_sample = True\n",
    "                break\n",
    "        if reject_sample:\n",
    "            num_rejects += 1\n",
    "            continue\n",
    "        # Matched the evidence, so update the counts of valid variable assignments\n",
    "        for assigned_node, assigned_val in assignments.items():\n",
    "            if assigned_node.name in var_to_val_to_count.keys():\n",
    "                var_to_val_to_count[assigned_node.name][assigned_val] += 1\n",
    "    # At the end, finally have counts that we can use to compute probabilities.\n",
    "    for x in X:\n",
    "        relevant_counts = var_to_val_to_count.get(x)\n",
    "        total_count = sum([count for count in relevant_counts.values()])\n",
    "        normalized_distribution = {}\n",
    "        for value, count in relevant_counts.items():\n",
    "            normalized_distribution[value] = count / total_count\n",
    "        print(\"Distribution for \", x, \":\", normalized_distribution)\n",
    "    print(\"Num samples used:\", num_samples - num_rejects)\n",
    "    print(\"Num samples rejected\", num_rejects)"
   ]
  },
  {
   "cell_type": "code",
   "execution_count": 5,
   "metadata": {},
   "outputs": [
    {
     "name": "stdout",
     "output_type": "stream",
     "text": [
      "Distribution for  Feet : {'dry': 0.5102168735113451, 'damp': 0.30036354519242825, 'drenched': 0.18941958129622666}\n",
      "Num samples used: 7977\n",
      "Num samples rejected 2023\n",
      "Distribution for  Rain : {True: 0.2998102466793169, False: 0.7001897533206831}\n",
      "Distribution for  Grass : {'wet': 0.8285895003162556, 'dry': 0.17141049968374447}\n",
      "Num samples used: 1581\n",
      "Num samples rejected 8419\n"
     ]
    }
   ],
   "source": [
    "# Test the rejection sampling code.\n",
    "# First, a really simple example.\n",
    "rejection_sampling(['Feet'], [('Rain', False)], net)\n",
    "# Now, a harder one, with more evidence and asking about more\n",
    "rejection_sampling(['Rain', 'Grass'], [('Sprinklers', 'on'), ('Feet', 'drenched')], net)\n"
   ]
  },
  {
   "cell_type": "markdown",
   "metadata": {},
   "source": [
    "In the previous example, we saw how rejection sampling can get us the distributions we want, but we also see one of the big flaws: we end up rejecting lots of samples. Lets do gibbs sampling instead!"
   ]
  },
  {
   "cell_type": "code",
   "execution_count": 35,
   "metadata": {},
   "outputs": [],
   "source": [
    "# FIXME: this code is ugly, but I do think it's correct.\n",
    "def gibbs_sampling(X, e, net, burn_in_period=100, eval_period=5000):\n",
    "    # For each of the variables in X, store a count of how often each value in the domain appears.\n",
    "    # Intialization to zero counts everywhere.\n",
    "    var_to_val_to_count = {}\n",
    "    for x in X:\n",
    "        var_to_val_to_count[x] = {}\n",
    "        for val in net.get_node(x).domain:\n",
    "            var_to_val_to_count[x][val] = 0\n",
    "    evidence_names = [evidence[0] for evidence in e]\n",
    "    # Intialize the net with random assignments.\n",
    "    assignments = {}\n",
    "    ordered_nodes = net.get_topographical_ordering()\n",
    "    for node in ordered_nodes:\n",
    "        if node.marginal_distribution:\n",
    "            sample = node.draw_sample()\n",
    "            assignments[node] = sample\n",
    "        else:\n",
    "            parent_val_assignments = [(parent, assignments.get(parent)) for parent in node.parents]\n",
    "            sample = node.draw_sample(parent_vals=parent_val_assignments)\n",
    "            assignments[node] = sample\n",
    "    # Now the burn-in section\n",
    "    all_nodes = net.nodes\n",
    "    for trial in range(burn_in_period + eval_period):\n",
    "        # Choose a random node, as long as it's not evidence.\n",
    "        node_to_swap = np.random.choice(all_nodes)\n",
    "        while node_to_swap.name in evidence_names:\n",
    "            node_to_swap = np.random.choice(all_nodes)\n",
    "        # Generate the distribution over next possible values of the node, conditioned on parents and children.\n",
    "        parent_assignments = [(parent, assignments.get(parent)) for parent in node_to_swap.parents]\n",
    "        next_distribution = {}\n",
    "        for next_val in node_to_swap.domain:\n",
    "            prob_given_parents = node_to_swap.get_prob_value(next_val, parent_assignments)\n",
    "            children = net.get_children(node_to_swap)\n",
    "            prob_from_children = 1.0\n",
    "            for child in children:\n",
    "                childs_parent_assignments = []\n",
    "                # But overwrite with next_val\n",
    "                for parent in child.parents:\n",
    "                    if parent == node_to_swap:\n",
    "                        childs_parent_assignments.append((node_to_swap, next_val))\n",
    "                        continue\n",
    "                    childs_parent_assignments.append((parent, assignments.get(parent)))\n",
    "                prob_of_child = child.get_prob_value(assignments.get(child), childs_parent_assignments)\n",
    "                prob_from_children = prob_from_children * prob_of_child\n",
    "            total_prob = prob_given_parents * prob_from_children\n",
    "            next_distribution[next_val] = total_prob\n",
    "        # Normalize the distribution and then sample.\n",
    "        normalizing_factor = sum(next_distribution.values())\n",
    "        for entry, val in next_distribution.items():\n",
    "            next_distribution[entry] = val / normalizing_factor\n",
    "        values = [entry[0] for entry in sorted(next_distribution.items())]\n",
    "        probabilities = [entry[1] for entry in sorted(next_distribution.items())]\n",
    "        sampled = np.random.choice(values, p=probabilities)\n",
    "        assignments[node_to_swap] = sampled\n",
    "        # If after burn-in, start saving data\n",
    "        if trial <= burn_in_period:\n",
    "            continue\n",
    "        # Save the data.\n",
    "        for assigned_node, assigned_val in assignments.items():\n",
    "            if assigned_node.name in var_to_val_to_count.keys():\n",
    "                var_to_val_to_count[assigned_node.name][assigned_val] += 1\n",
    "    # At the end, finally have counts that we can use to compute probabilities.\n",
    "    for x in X:\n",
    "        relevant_counts = var_to_val_to_count.get(x)\n",
    "        total_count = sum([count for count in relevant_counts.values()])\n",
    "        normalized_distribution = {}\n",
    "        for value, count in relevant_counts.items():\n",
    "            normalized_distribution[value] = count / total_count\n",
    "        print(\"Distribution for \", x, \":\", normalized_distribution)"
   ]
  },
  {
   "cell_type": "code",
   "execution_count": 36,
   "metadata": {},
   "outputs": [
    {
     "name": "stdout",
     "output_type": "stream",
     "text": [
      "Distribution for  Feet : {'dry': 0.5471094218843768, 'damp': 0.27345469093818764, 'drenched': 0.1794358871774355}\n",
      "\n",
      "Distribution for  Rain : {True: 0.27825565113022604, False: 0.7217443488697739}\n",
      "Distribution for  Grass : {'wet': 0.8195639127825565, 'dry': 0.18043608721744347}\n"
     ]
    }
   ],
   "source": [
    "# Test out Gibbs with the same examples as for rejection sampling\n",
    "gibbs_sampling(['Feet'], [('Rain', False)], net)\n",
    "print()\n",
    "gibbs_sampling(['Rain', 'Grass'], [('Sprinklers', 'on'), ('Feet', 'drenched')], net)"
   ]
  },
  {
   "cell_type": "code",
   "execution_count": null,
   "metadata": {},
   "outputs": [],
   "source": []
  }
 ],
 "metadata": {
  "kernelspec": {
   "display_name": "Python 3",
   "language": "python",
   "name": "python3"
  },
  "language_info": {
   "codemirror_mode": {
    "name": "ipython",
    "version": 3
   },
   "file_extension": ".py",
   "mimetype": "text/x-python",
   "name": "python",
   "nbconvert_exporter": "python",
   "pygments_lexer": "ipython3",
   "version": "3.7.3"
  }
 },
 "nbformat": 4,
 "nbformat_minor": 2
}
