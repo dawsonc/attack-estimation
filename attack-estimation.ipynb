{
 "cells": [
  {
   "cell_type": "code",
   "execution_count": 1,
   "metadata": {},
   "outputs": [],
   "source": [
    "# This is the main notebook to run.\n",
    "# In this notebook, we go through the \"attack-estimation\" portion of the project.\n",
    "# Some utility code, including base classes, lives in files outside this notebook."
   ]
  },
  {
   "cell_type": "code",
   "execution_count": 2,
   "metadata": {},
   "outputs": [],
   "source": [
    "# A bunch of imports\n",
    "from bayes_net import BayesNet, BayesNode"
   ]
  },
  {
   "cell_type": "code",
   "execution_count": 3,
   "metadata": {},
   "outputs": [
    {
     "name": "stdout",
     "output_type": "stream",
     "text": [
      "Have 4 nodes and 3 edges\n"
     ]
    },
    {
     "data": {
      "image/png": "[encoded data removed]",
      "text/plain": [
       "<Figure size 432x288 with 1 Axes>"
      ]
     },
     "metadata": {},
     "output_type": "display_data"
    }
   ],
   "source": [
    "# A demonstration for developers of how to create a BayesNet. In this example, I define the likelihood of getting\n",
    "# wet feet as a function of wet grass, which is a function of raining and sprinkling.\n",
    "\n",
    "# First, declare a bunch of nodes.\n",
    "rain_node = BayesNode('Rain')\n",
    "rain_node.set_marginal_distribution({True: 0.2, False: 0.8})\n",
    "sprinklers_node = BayesNode('Sprinklers')\n",
    "sprinklers_node.set_marginal_distribution({'on': 0.6, 'off': 0.4})\n",
    "grass_node = BayesNode('Grass')\n",
    "grass_node.add_entry([(rain_node, True), (sprinklers_node, 'on')], {'wet': 0.95, 'dry': 0.05})\n",
    "grass_node.add_entry([(rain_node, True), (sprinklers_node, 'off')], {'wet': 0.6, 'dry': 0.4})\n",
    "grass_node.add_entry([(rain_node, False), (sprinklers_node, 'on')], {'wet': 0.45, 'dry': 0.55})\n",
    "grass_node.add_entry([(rain_node, False), (sprinklers_node, 'off')], {'wet': 0.1, 'dry': 0.90})\n",
    "feet_node = BayesNode('Feet')\n",
    "feet_node.add_entry([(grass_node, 'wet')], {'dry': 0.1, 'damp': 0.5, 'drenched': 0.4})\n",
    "feet_node.add_entry([(grass_node, 'dry')], {'dry': 0.7, 'damp': 0.2, 'drenched': 0.1})\n",
    "\n",
    "# Second, create a BayesNet object that just stores all the nodes.\n",
    "net = BayesNet([rain_node, sprinklers_node, grass_node, feet_node])\n",
    "\n",
    "# Third, do whatever you want with this data structure, like ask for the conditional distribution for a variable.\n",
    "fetched_node = net.get_node('Feet')\n",
    "assert fetched_node == feet_node  # Just a sanity check\n",
    "\n",
    "# Fourth, visualize it all. Right now, visualization is crude (weird layout) but should be correct (arrows the right way.)\n",
    "net.draw_net()"
   ]
  },
  {
   "cell_type": "code",
   "execution_count": null,
   "metadata": {},
   "outputs": [],
   "source": []
  },
  {
   "cell_type": "code",
   "execution_count": null,
   "metadata": {},
   "outputs": [],
   "source": []
  }
 ],
 "metadata": {
  "kernelspec": {
   "display_name": "Python 3",
   "language": "python",
   "name": "python3"
  },
  "language_info": {
   "codemirror_mode": {
    "name": "ipython",
    "version": 3
   },
   "file_extension": ".py",
   "mimetype": "text/x-python",
   "name": "python",
   "nbconvert_exporter": "python",
   "pygments_lexer": "ipython3",
   "version": "3.6.5"
  }
 },
 "nbformat": 4,
 "nbformat_minor": 2
}
